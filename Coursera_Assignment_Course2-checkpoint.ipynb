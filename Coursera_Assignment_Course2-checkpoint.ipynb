{
 "cells": [
  {
   "cell_type": "markdown",
   "id": "f387d4ee",
   "metadata": {},
   "source": [
    "# Coursera Course - Tools for Data Science"
   ]
  },
  {
   "cell_type": "markdown",
   "id": "2f028dd4",
   "metadata": {},
   "source": [
    "This is the code file for the second course of Data Science IBM program which is explaining the use of Jupyter Notebook and the Github"
   ]
  },
  {
   "cell_type": "markdown",
   "id": "6da4b215",
   "metadata": {},
   "source": [
    "Here are the programming languages commonly used in data science:\n",
    "\n",
    "- Python\n",
    "- R\n",
    "- SQL\n",
    "- Java\n",
    "- Julia\n",
    "- Scala\n",
    "- MATLAB"
   ]
  },
  {
   "cell_type": "markdown",
   "id": "3419ba82",
   "metadata": {},
   "source": [
    "Here are the libraries of Datacience:\n",
    "- NumPy\n",
    "- Pandas\n",
    "- Matplotlib\n",
    "- Seaborn\n",
    "- Scikit-learn\n",
    "- TensorFlow\n",
    "- Keras\n",
    "- PyTorch\n",
    "- SciPy\n",
    "- Statsmodels\n",
    "- NLTK (Natural Language Toolkit)\n",
    "- Gensim\n",
    "- OpenCV\n",
    "- Plotly\n"
   ]
  },
  {
   "cell_type": "markdown",
   "id": "e17b4aea",
   "metadata": {},
   "source": [
    "| Tool          | Description                                            |\n",
    "|---------------|--------------------------------------------------------|\n",
    "| Python        | Versatile programming language for data manipulation, analysis, and machine learning. |\n",
    "| R             | Statistical computing and graphics language, widely used in academia and research. |\n",
    "| SQL           | Query language for relational databases, essential for data manipulation and retrieval. |\n",
    "| Jupyter Notebook | Interactive computing environment for data analysis and visualization. |\n",
    "| MATLAB        | Numerical computing environment with tools for data analysis, visualization, and simulation. |\n",
    "| Pandas        | Python library for data manipulation and analysis, providing data structures and functions for working with structured data. |\n",
    "| NumPy         | Fundamental package for scientific computing in Python, providing support for multidimensional arrays and matrices. |\n",
    "| Matplotlib    | Python plotting library for creating static, interactive, and animated visualizations. |\n",
    "| Seaborn       | Statistical data visualization library based on Matplotlib, providing a high-level interface for drawing attractive and informative statistical graphics. |\n",
    "| Scikit-learn  | Machine learning library in Python, offering simple and efficient tools for data mining and data analysis. |\n",
    "| TensorFlow    | Open-source machine learning framework developed by Google for building and training deep learning models. |\n",
    "| Keras         | High-level neural networks API, running on top of TensorFlow or other frameworks, simplifying the process of building and training deep learning models. |\n",
    "| PyTorch       | Open-source machine learning library developed by Facebook, providing a flexible and efficient platform for building and training neural networks. |\n",
    "| Hadoop        | Framework for distributed storage and processing of large datasets, widely used for big data analytics. |\n",
    "| Spark         | Unified analytics engine for big data processing, providing support for various programming languages and libraries. |\n"
   ]
  },
  {
   "cell_type": "markdown",
   "id": "caba08b3",
   "metadata": {},
   "source": [
    "**Arithmetic Expression Examples**\n",
    "\n",
    "Arithmetic expressions involve mathematical operations such as addition, subtraction, multiplication, and division. These expressions can be composed of numbers, variables, and operators. Here are some examples of arithmetic expressions:\n",
    "\n",
    "1. Addition:\n",
    "   - `2 + 3 = 5`\n",
    "   - `x + y`\n",
    "\n",
    "2. Subtraction:\n",
    "   - `5 - 2 = 3`\n",
    "   - `x - y`\n",
    "\n",
    "3. Multiplication:\n",
    "   - `3 * 4 = 12`\n",
    "   - `x * y`\n",
    "\n",
    "4. Division:\n",
    "   - `10 / 2 = 5`\n",
    "   - `x / y`\n",
    "\n",
    "5. Exponentiation:\n",
    "   - `2^3 = 8`\n",
    "   - `x^2`\n",
    "\n",
    "6. Modulo:\n",
    "   - `10 % 3 = 1`\n",
    "   - `x % y`\n",
    "\n",
    "Arithmetic expressions can be evaluated to obtain numerical results or symbolic representations depending on the values of variables involved. They are fundamental in mathematics, programming, and various scientific fields.\n"
   ]
  },
  {
   "cell_type": "code",
   "execution_count": 3,
   "id": "5c116208",
   "metadata": {},
   "outputs": [
    {
     "name": "stdout",
     "output_type": "stream",
     "text": [
      "Multiplication Result: 15\n",
      "Addition Result: 8\n"
     ]
    }
   ],
   "source": [
    "# Define numbers\n",
    "num1 = 5\n",
    "num2 = 3\n",
    "\n",
    "# Perform multiplication\n",
    "result_multiply = num1 * num2\n",
    "\n",
    "# Perform addition\n",
    "result_add = num1 + num2\n",
    "\n",
    "# Print results\n",
    "print(\"Multiplication Result:\", result_multiply)\n",
    "print(\"Addition Result:\", result_add)\n"
   ]
  },
  {
   "cell_type": "code",
   "execution_count": 4,
   "id": "3f1fb307",
   "metadata": {},
   "outputs": [
    {
     "name": "stdout",
     "output_type": "stream",
     "text": [
      "150 minutes is equal to 2.5 hours\n"
     ]
    }
   ],
   "source": [
    "# Define minutes\n",
    "minutes = 150\n",
    "\n",
    "# Convert minutes to hours\n",
    "hours = minutes / 60\n",
    "\n",
    "# Print the result\n",
    "print(minutes, \"minutes is equal to\", hours, \"hours\")\n"
   ]
  },
  {
   "cell_type": "markdown",
   "id": "df94de73",
   "metadata": {},
   "source": [
    "## Objectives\n",
    "\n",
    "- Understand the basics of arithmetic expressions.\n",
    "- Learn how to perform addition, subtraction, multiplication, and division in Python.\n",
    "- Practice converting units, such as minutes to hours.\n",
    "- Gain familiarity with using Python in Jupyter Notebook for numerical computations.\n"
   ]
  },
  {
   "cell_type": "markdown",
   "id": "15cb6e86",
   "metadata": {},
   "source": [
    "**Author:** Abeer\n"
   ]
  }
 ],
 "metadata": {
  "kernelspec": {
   "display_name": "Python 3 (ipykernel)",
   "language": "python",
   "name": "python3"
  },
  "language_info": {
   "codemirror_mode": {
    "name": "ipython",
    "version": 3
   },
   "file_extension": ".py",
   "mimetype": "text/x-python",
   "name": "python",
   "nbconvert_exporter": "python",
   "pygments_lexer": "ipython3",
   "version": "3.9.12"
  }
 },
 "nbformat": 4,
 "nbformat_minor": 5
}
